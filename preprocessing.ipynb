{
 "cells": [
  {
   "cell_type": "code",
   "execution_count": 248,
   "metadata": {},
   "outputs": [],
   "source": [
    "import pandas as pd\n",
    "import numpy as np\n",
    "import matplotlib.pyplot as plt\n",
    "import json\n",
    "from pandas.io.json import json_normalize\n",
    "from scipy import stats"
   ]
  },
  {
   "attachments": {},
   "cell_type": "markdown",
   "metadata": {},
   "source": [
    "Loading data from text file"
   ]
  },
  {
   "cell_type": "code",
   "execution_count": 249,
   "metadata": {},
   "outputs": [],
   "source": [
    "with open('ProgrammWebScrapy.txt', encoding='utf-8') as data_file:\n",
    "    txt_file = data_file.read()\n",
    "    data = json.loads(txt_file,strict=False)"
   ]
  },
  {
   "cell_type": "code",
   "execution_count": 250,
   "metadata": {},
   "outputs": [
    {
     "name": "stderr",
     "output_type": "stream",
     "text": [
      "C:\\Users\\KIIT01\\AppData\\Local\\Temp\\ipykernel_17200\\829159576.py:1: FutureWarning: pandas.io.json.json_normalize is deprecated, use pandas.json_normalize instead.\n",
      "  df = pd.DataFrame.from_dict(json_normalize(data), orient='columns')\n"
     ]
    }
   ],
   "source": [
    "df = pd.DataFrame.from_dict(json_normalize(data), orient='columns')"
   ]
  },
  {
   "cell_type": "code",
   "execution_count": 251,
   "metadata": {},
   "outputs": [
    {
     "data": {
      "text/html": [
       "<div>\n",
       "<style scoped>\n",
       "    .dataframe tbody tr th:only-of-type {\n",
       "        vertical-align: middle;\n",
       "    }\n",
       "\n",
       "    .dataframe tbody tr th {\n",
       "        vertical-align: top;\n",
       "    }\n",
       "\n",
       "    .dataframe thead th {\n",
       "        text-align: right;\n",
       "    }\n",
       "</style>\n",
       "<table border=\"1\" class=\"dataframe\">\n",
       "  <thead>\n",
       "    <tr style=\"text-align: right;\">\n",
       "      <th></th>\n",
       "      <th>Title</th>\n",
       "      <th>Description</th>\n",
       "      <th>APIEndpoint</th>\n",
       "      <th>APIPortalHomePage</th>\n",
       "      <th>PrimaryCategory</th>\n",
       "      <th>SecondaryCategories</th>\n",
       "      <th>APIProvider</th>\n",
       "      <th>SSLSupport</th>\n",
       "      <th>APIForumMessageBoards</th>\n",
       "      <th>AuthenticationModel</th>\n",
       "      <th>IstheAPIDesign</th>\n",
       "      <th>Scope</th>\n",
       "      <th>DeviceSpecific</th>\n",
       "      <th>DocsHomePageUR</th>\n",
       "      <th>ArchitecturalStyle</th>\n",
       "      <th>SupportedRequestFormats</th>\n",
       "      <th>SupportedResponseFormats</th>\n",
       "      <th>IsThisanUnofficialAPI</th>\n",
       "      <th>RestrictedAccess</th>\n",
       "      <th>SupportEmailAddress</th>\n",
       "    </tr>\n",
       "  </thead>\n",
       "  <tbody>\n",
       "    <tr>\n",
       "      <th>1</th>\n",
       "      <td>Twitter API</td>\n",
       "      <td>It has been split into multiple APIs, includin...</td>\n",
       "      <td>http://twitter.com/statuses/</td>\n",
       "      <td>https://dev.twitter.com/rest/public</td>\n",
       "      <td>Social</td>\n",
       "      <td>Blogging</td>\n",
       "      <td>Twitter</td>\n",
       "      <td>No</td>\n",
       "      <td>http://groups.google.com/group/twitter-develop...</td>\n",
       "      <td>OAuth 2</td>\n",
       "      <td>Yes</td>\n",
       "      <td>Single purpose API</td>\n",
       "      <td>No</td>\n",
       "      <td>https://dev.twitter.com/rest/public</td>\n",
       "      <td>REST</td>\n",
       "      <td>URI Query String/CRUD</td>\n",
       "      <td>Atom, JSON, RSS, XML</td>\n",
       "      <td>No</td>\n",
       "      <td>No</td>\n",
       "      <td>api@twitter.com</td>\n",
       "    </tr>\n",
       "    <tr>\n",
       "      <th>2</th>\n",
       "      <td>YouTube API</td>\n",
       "      <td>The Data API allows users to integrate their p...</td>\n",
       "      <td>https://www.youtube.com/iframe_api</td>\n",
       "      <td>https://developers.google.com/youtube/</td>\n",
       "      <td>Video</td>\n",
       "      <td>Media</td>\n",
       "      <td>Google</td>\n",
       "      <td>No</td>\n",
       "      <td>http://groups.google.com/group/youtube-api/</td>\n",
       "      <td>API Key</td>\n",
       "      <td>No</td>\n",
       "      <td>Single purpose API</td>\n",
       "      <td>No</td>\n",
       "      <td>https://developers.google.com/youtube/</td>\n",
       "      <td>REST</td>\n",
       "      <td>Atom, GData, RSS, URI Query String/CRUD, Atom ...</td>\n",
       "      <td>XML, JSON, GData, Atom, RSS</td>\n",
       "      <td>No</td>\n",
       "      <td>No</td>\n",
       "      <td>NaN</td>\n",
       "    </tr>\n",
       "    <tr>\n",
       "      <th>3</th>\n",
       "      <td>Flickr API</td>\n",
       "      <td>The Flickr API can be used to retrieve photos ...</td>\n",
       "      <td>http://api.flickr.com/services/</td>\n",
       "      <td>http://www.flickr.com/services/api/</td>\n",
       "      <td>Photos</td>\n",
       "      <td>Video</td>\n",
       "      <td>Flickr</td>\n",
       "      <td>Yes</td>\n",
       "      <td>http://www.flickr.com/groups/api</td>\n",
       "      <td>OAuth 1</td>\n",
       "      <td>No</td>\n",
       "      <td>Single purpose API</td>\n",
       "      <td>No</td>\n",
       "      <td>http://www.flickr.com/services/api/</td>\n",
       "      <td>REST</td>\n",
       "      <td>URI Query String/CRUD, XML, PHP, XML-RPC</td>\n",
       "      <td>JSON, XML, PHP, XML-RPC</td>\n",
       "      <td>No</td>\n",
       "      <td>No</td>\n",
       "      <td>NaN</td>\n",
       "    </tr>\n",
       "    <tr>\n",
       "      <th>4</th>\n",
       "      <td>Facebook API</td>\n",
       "      <td>Its functions have been split among the follow...</td>\n",
       "      <td>http://api.facebook.com/restserver.php</td>\n",
       "      <td>https://developers.facebook.com/</td>\n",
       "      <td>Social</td>\n",
       "      <td>Webhooks</td>\n",
       "      <td>Facebook</td>\n",
       "      <td>Yes</td>\n",
       "      <td>http://forum.developers.facebook.com/</td>\n",
       "      <td>API Key, OAuth 2</td>\n",
       "      <td>No</td>\n",
       "      <td>Single purpose API</td>\n",
       "      <td>No</td>\n",
       "      <td>https://developers.facebook.com/</td>\n",
       "      <td>REST</td>\n",
       "      <td>URI Query String/CRUD</td>\n",
       "      <td>JSON</td>\n",
       "      <td>No</td>\n",
       "      <td>No</td>\n",
       "      <td>NaN</td>\n",
       "    </tr>\n",
       "    <tr>\n",
       "      <th>5</th>\n",
       "      <td>Amazon Product Advertising API</td>\n",
       "      <td>What was formerly the ECSeCommerce Servicehas ...</td>\n",
       "      <td>http://webservices.amazon.com/</td>\n",
       "      <td>https://affiliate-program.amazon.com/gp/advert...</td>\n",
       "      <td>eCommerce</td>\n",
       "      <td>Advertising</td>\n",
       "      <td>Amazon</td>\n",
       "      <td>No</td>\n",
       "      <td>http://developer.amazonwebservices.com/connect...</td>\n",
       "      <td>API Key</td>\n",
       "      <td>Yes</td>\n",
       "      <td>Single purpose API</td>\n",
       "      <td>No</td>\n",
       "      <td>https://docs.aws.amazon.com/AWSECommerceServic...</td>\n",
       "      <td>REST</td>\n",
       "      <td>SOAP, XML</td>\n",
       "      <td>SOAP, XML</td>\n",
       "      <td>No</td>\n",
       "      <td>Yes</td>\n",
       "      <td>NaN</td>\n",
       "    </tr>\n",
       "    <tr>\n",
       "      <th>6</th>\n",
       "      <td>Twilio API</td>\n",
       "      <td>Twilio provides a simple hosted API and markup...</td>\n",
       "      <td>https://api.twilio.com/2010-04-01</td>\n",
       "      <td>http://www.twilio.com</td>\n",
       "      <td>Telephony</td>\n",
       "      <td>Cloud, Text-to-Speech, Voice, Webhooks</td>\n",
       "      <td>Twilio</td>\n",
       "      <td>Yes</td>\n",
       "      <td>https://www.twilio.com/blog</td>\n",
       "      <td>API Key, HTTP Basic Auth</td>\n",
       "      <td>No</td>\n",
       "      <td>Single purpose API</td>\n",
       "      <td>No</td>\n",
       "      <td>https://www.twilio.com/docs/api/rest</td>\n",
       "      <td>REST</td>\n",
       "      <td>URI Query String/CRUD</td>\n",
       "      <td>CSV, HTML, JSON, XML</td>\n",
       "      <td>No</td>\n",
       "      <td>No</td>\n",
       "      <td>help@twilio.com</td>\n",
       "    </tr>\n",
       "    <tr>\n",
       "      <th>7</th>\n",
       "      <td>Last.fm API</td>\n",
       "      <td>The Last.fm API gives users the ability to bui...</td>\n",
       "      <td>http://ws.audioscrobbler.com/2.0/</td>\n",
       "      <td>http://www.last.fm/api</td>\n",
       "      <td>Music</td>\n",
       "      <td>NaN</td>\n",
       "      <td>Last.fm</td>\n",
       "      <td>No</td>\n",
       "      <td>http://www.last.fm/group/Last.fm+Web+Services/...</td>\n",
       "      <td>API Key, Shared Secret, Token</td>\n",
       "      <td>Yes</td>\n",
       "      <td>Single purpose API</td>\n",
       "      <td>No</td>\n",
       "      <td>http://www.last.fm/api</td>\n",
       "      <td>REST</td>\n",
       "      <td>URI Query String/CRUD</td>\n",
       "      <td>JSON, XML</td>\n",
       "      <td>No</td>\n",
       "      <td>No</td>\n",
       "      <td>office@last.fm</td>\n",
       "    </tr>\n",
       "    <tr>\n",
       "      <th>8</th>\n",
       "      <td>eBay API</td>\n",
       "      <td>eBay's primary web services are found in the t...</td>\n",
       "      <td>http://developer.ebay.com/webservices/latest/e...</td>\n",
       "      <td>https://go.developer.ebay.com/developers/ebay</td>\n",
       "      <td>Search</td>\n",
       "      <td>Auctions, eCommerce</td>\n",
       "      <td>NaN</td>\n",
       "      <td>Yes</td>\n",
       "      <td>http://developer.ebay.com/community/forums/</td>\n",
       "      <td>NaN</td>\n",
       "      <td>No</td>\n",
       "      <td>Single purpose API</td>\n",
       "      <td>No</td>\n",
       "      <td>https://go.developer.ebay.com/developers/ebay</td>\n",
       "      <td>REST</td>\n",
       "      <td>XML, SOAP, URI Query String/CRUD, name-value</td>\n",
       "      <td>XML, SOAP, JSON</td>\n",
       "      <td>No</td>\n",
       "      <td>No</td>\n",
       "      <td>NaN</td>\n",
       "    </tr>\n",
       "    <tr>\n",
       "      <th>9</th>\n",
       "      <td>Twilio SMS API</td>\n",
       "      <td>Twilio provides a simple hosted API and markup...</td>\n",
       "      <td>NaN</td>\n",
       "      <td>http://www.twilio.com/sms</td>\n",
       "      <td>Messaging</td>\n",
       "      <td>Telephony, USA</td>\n",
       "      <td>NaN</td>\n",
       "      <td>Yes</td>\n",
       "      <td>http://forum.twilio.com/twilio/?from_gsfn=true</td>\n",
       "      <td>NaN</td>\n",
       "      <td>No</td>\n",
       "      <td>Single purpose API</td>\n",
       "      <td>No</td>\n",
       "      <td>http://www.twilio.com/sms</td>\n",
       "      <td>REST</td>\n",
       "      <td>None Specified</td>\n",
       "      <td>XML</td>\n",
       "      <td>No</td>\n",
       "      <td>No</td>\n",
       "      <td>NaN</td>\n",
       "    </tr>\n",
       "    <tr>\n",
       "      <th>10</th>\n",
       "      <td>Microsoft Bing Maps API</td>\n",
       "      <td>Bing Maps API and Interactive SDK features an ...</td>\n",
       "      <td>See-&gt; http://dev.live.com/virtualearth/sdk/</td>\n",
       "      <td>http://www.microsoft.com/maps/choose-your-bing...</td>\n",
       "      <td>Mapping</td>\n",
       "      <td>Viewer</td>\n",
       "      <td>Microsoft</td>\n",
       "      <td>Yes</td>\n",
       "      <td>http://social.msdn.microsoft.com/forums/en-US/...</td>\n",
       "      <td>API Key</td>\n",
       "      <td>No</td>\n",
       "      <td>Single purpose API</td>\n",
       "      <td>No</td>\n",
       "      <td>http://www.microsoft.com/maps/choose-your-bing...</td>\n",
       "      <td>Indirect</td>\n",
       "      <td>KML, XML, GeoRSS, JavaScript</td>\n",
       "      <td>KML</td>\n",
       "      <td>No</td>\n",
       "      <td>No</td>\n",
       "      <td>NaN</td>\n",
       "    </tr>\n",
       "  </tbody>\n",
       "</table>\n",
       "</div>"
      ],
      "text/plain": [
       "                             Title  \\\n",
       "1                      Twitter API   \n",
       "2                      YouTube API   \n",
       "3                       Flickr API   \n",
       "4                     Facebook API   \n",
       "5   Amazon Product Advertising API   \n",
       "6                       Twilio API   \n",
       "7                      Last.fm API   \n",
       "8                         eBay API   \n",
       "9                   Twilio SMS API   \n",
       "10         Microsoft Bing Maps API   \n",
       "\n",
       "                                          Description  \\\n",
       "1   It has been split into multiple APIs, includin...   \n",
       "2   The Data API allows users to integrate their p...   \n",
       "3   The Flickr API can be used to retrieve photos ...   \n",
       "4   Its functions have been split among the follow...   \n",
       "5   What was formerly the ECSeCommerce Servicehas ...   \n",
       "6   Twilio provides a simple hosted API and markup...   \n",
       "7   The Last.fm API gives users the ability to bui...   \n",
       "8   eBay's primary web services are found in the t...   \n",
       "9   Twilio provides a simple hosted API and markup...   \n",
       "10  Bing Maps API and Interactive SDK features an ...   \n",
       "\n",
       "                                          APIEndpoint  \\\n",
       "1                        http://twitter.com/statuses/   \n",
       "2                  https://www.youtube.com/iframe_api   \n",
       "3                     http://api.flickr.com/services/   \n",
       "4              http://api.facebook.com/restserver.php   \n",
       "5                      http://webservices.amazon.com/   \n",
       "6                   https://api.twilio.com/2010-04-01   \n",
       "7                   http://ws.audioscrobbler.com/2.0/   \n",
       "8   http://developer.ebay.com/webservices/latest/e...   \n",
       "9                                                 NaN   \n",
       "10        See-> http://dev.live.com/virtualearth/sdk/   \n",
       "\n",
       "                                    APIPortalHomePage PrimaryCategory  \\\n",
       "1                 https://dev.twitter.com/rest/public          Social   \n",
       "2              https://developers.google.com/youtube/           Video   \n",
       "3                 http://www.flickr.com/services/api/          Photos   \n",
       "4                    https://developers.facebook.com/          Social   \n",
       "5   https://affiliate-program.amazon.com/gp/advert...       eCommerce   \n",
       "6                               http://www.twilio.com       Telephony   \n",
       "7                              http://www.last.fm/api           Music   \n",
       "8       https://go.developer.ebay.com/developers/ebay          Search   \n",
       "9                           http://www.twilio.com/sms       Messaging   \n",
       "10  http://www.microsoft.com/maps/choose-your-bing...         Mapping   \n",
       "\n",
       "                       SecondaryCategories APIProvider SSLSupport  \\\n",
       "1                                 Blogging     Twitter         No   \n",
       "2                                    Media      Google         No   \n",
       "3                                    Video      Flickr        Yes   \n",
       "4                                 Webhooks    Facebook        Yes   \n",
       "5                              Advertising      Amazon         No   \n",
       "6   Cloud, Text-to-Speech, Voice, Webhooks      Twilio        Yes   \n",
       "7                                      NaN     Last.fm         No   \n",
       "8                      Auctions, eCommerce         NaN        Yes   \n",
       "9                           Telephony, USA         NaN        Yes   \n",
       "10                                  Viewer   Microsoft        Yes   \n",
       "\n",
       "                                APIForumMessageBoards  \\\n",
       "1   http://groups.google.com/group/twitter-develop...   \n",
       "2         http://groups.google.com/group/youtube-api/   \n",
       "3                    http://www.flickr.com/groups/api   \n",
       "4               http://forum.developers.facebook.com/   \n",
       "5   http://developer.amazonwebservices.com/connect...   \n",
       "6                         https://www.twilio.com/blog   \n",
       "7   http://www.last.fm/group/Last.fm+Web+Services/...   \n",
       "8         http://developer.ebay.com/community/forums/   \n",
       "9      http://forum.twilio.com/twilio/?from_gsfn=true   \n",
       "10  http://social.msdn.microsoft.com/forums/en-US/...   \n",
       "\n",
       "              AuthenticationModel IstheAPIDesign               Scope  \\\n",
       "1                         OAuth 2            Yes  Single purpose API   \n",
       "2                         API Key             No  Single purpose API   \n",
       "3                         OAuth 1             No  Single purpose API   \n",
       "4                API Key, OAuth 2             No  Single purpose API   \n",
       "5                         API Key            Yes  Single purpose API   \n",
       "6        API Key, HTTP Basic Auth             No  Single purpose API   \n",
       "7   API Key, Shared Secret, Token            Yes  Single purpose API   \n",
       "8                             NaN             No  Single purpose API   \n",
       "9                             NaN             No  Single purpose API   \n",
       "10                        API Key             No  Single purpose API   \n",
       "\n",
       "   DeviceSpecific                                     DocsHomePageUR  \\\n",
       "1              No                https://dev.twitter.com/rest/public   \n",
       "2              No             https://developers.google.com/youtube/   \n",
       "3              No                http://www.flickr.com/services/api/   \n",
       "4              No                   https://developers.facebook.com/   \n",
       "5              No  https://docs.aws.amazon.com/AWSECommerceServic...   \n",
       "6              No               https://www.twilio.com/docs/api/rest   \n",
       "7              No                             http://www.last.fm/api   \n",
       "8              No      https://go.developer.ebay.com/developers/ebay   \n",
       "9              No                          http://www.twilio.com/sms   \n",
       "10             No  http://www.microsoft.com/maps/choose-your-bing...   \n",
       "\n",
       "   ArchitecturalStyle                            SupportedRequestFormats  \\\n",
       "1                REST                              URI Query String/CRUD   \n",
       "2                REST  Atom, GData, RSS, URI Query String/CRUD, Atom ...   \n",
       "3                REST           URI Query String/CRUD, XML, PHP, XML-RPC   \n",
       "4                REST                              URI Query String/CRUD   \n",
       "5                REST                                          SOAP, XML   \n",
       "6                REST                              URI Query String/CRUD   \n",
       "7                REST                              URI Query String/CRUD   \n",
       "8                REST       XML, SOAP, URI Query String/CRUD, name-value   \n",
       "9                REST                                     None Specified   \n",
       "10           Indirect                       KML, XML, GeoRSS, JavaScript   \n",
       "\n",
       "       SupportedResponseFormats IsThisanUnofficialAPI RestrictedAccess  \\\n",
       "1          Atom, JSON, RSS, XML                    No               No   \n",
       "2   XML, JSON, GData, Atom, RSS                    No               No   \n",
       "3       JSON, XML, PHP, XML-RPC                    No               No   \n",
       "4                          JSON                    No               No   \n",
       "5                     SOAP, XML                    No              Yes   \n",
       "6          CSV, HTML, JSON, XML                    No               No   \n",
       "7                     JSON, XML                    No               No   \n",
       "8               XML, SOAP, JSON                    No               No   \n",
       "9                           XML                    No               No   \n",
       "10                          KML                    No               No   \n",
       "\n",
       "   SupportEmailAddress  \n",
       "1      api@twitter.com  \n",
       "2                  NaN  \n",
       "3                  NaN  \n",
       "4                  NaN  \n",
       "5                  NaN  \n",
       "6      help@twilio.com  \n",
       "7       office@last.fm  \n",
       "8                  NaN  \n",
       "9                  NaN  \n",
       "10                 NaN  "
      ]
     },
     "execution_count": 251,
     "metadata": {},
     "output_type": "execute_result"
    }
   ],
   "source": [
    "df[1:11]"
   ]
  },
  {
   "cell_type": "code",
   "execution_count": 252,
   "metadata": {},
   "outputs": [
    {
     "data": {
      "text/plain": [
       "(15344, 20)"
      ]
     },
     "execution_count": 252,
     "metadata": {},
     "output_type": "execute_result"
    }
   ],
   "source": [
    "df.shape"
   ]
  },
  {
   "cell_type": "code",
   "execution_count": 253,
   "metadata": {},
   "outputs": [
    {
     "data": {
      "text/plain": [
       "Index(['Title', 'Description', 'APIEndpoint', 'APIPortalHomePage',\n",
       "       'PrimaryCategory', 'SecondaryCategories', 'APIProvider', 'SSLSupport',\n",
       "       'APIForumMessageBoards', 'AuthenticationModel', 'IstheAPIDesign',\n",
       "       'Scope', 'DeviceSpecific', 'DocsHomePageUR', 'ArchitecturalStyle',\n",
       "       'SupportedRequestFormats', 'SupportedResponseFormats',\n",
       "       'IsThisanUnofficialAPI', 'RestrictedAccess', 'SupportEmailAddress'],\n",
       "      dtype='object')"
      ]
     },
     "execution_count": 253,
     "metadata": {},
     "output_type": "execute_result"
    }
   ],
   "source": [
    "df.columns"
   ]
  },
  {
   "cell_type": "code",
   "execution_count": 254,
   "metadata": {},
   "outputs": [],
   "source": [
    "label = df['PrimaryCategory']"
   ]
  },
  {
   "cell_type": "code",
   "execution_count": 255,
   "metadata": {},
   "outputs": [
    {
     "data": {
      "text/plain": [
       "0          Mapping\n",
       "1           Social\n",
       "2            Video\n",
       "3           Photos\n",
       "4           Social\n",
       "           ...    \n",
       "15339     Security\n",
       "15340        Email\n",
       "15341        Games\n",
       "15342    Financial\n",
       "15343      Medical\n",
       "Name: PrimaryCategory, Length: 15344, dtype: object"
      ]
     },
     "execution_count": 255,
     "metadata": {},
     "output_type": "execute_result"
    }
   ],
   "source": [
    "label"
   ]
  },
  {
   "attachments": {},
   "cell_type": "markdown",
   "metadata": {},
   "source": [
    "Removing null categories"
   ]
  },
  {
   "cell_type": "code",
   "execution_count": 256,
   "metadata": {},
   "outputs": [
    {
     "data": {
      "text/plain": [
       "35"
      ]
     },
     "execution_count": 256,
     "metadata": {},
     "output_type": "execute_result"
    }
   ],
   "source": [
    "label.isnull().sum()"
   ]
  },
  {
   "cell_type": "code",
   "execution_count": 257,
   "metadata": {},
   "outputs": [],
   "source": [
    "data = df.loc[label.notnull(), :]"
   ]
  },
  {
   "attachments": {},
   "cell_type": "markdown",
   "metadata": {},
   "source": [
    "Removing description and categories that contains ''"
   ]
  },
  {
   "cell_type": "code",
   "execution_count": 258,
   "metadata": {},
   "outputs": [],
   "source": [
    "desc = data.Description\n",
    "desc.isnull().sum()\n",
    "data = df[df.Description != '']"
   ]
  },
  {
   "cell_type": "code",
   "execution_count": 259,
   "metadata": {},
   "outputs": [],
   "source": [
    "data = data[data.PrimaryCategory!='']"
   ]
  },
  {
   "cell_type": "code",
   "execution_count": 260,
   "metadata": {},
   "outputs": [
    {
     "data": {
      "text/html": [
       "<div>\n",
       "<style scoped>\n",
       "    .dataframe tbody tr th:only-of-type {\n",
       "        vertical-align: middle;\n",
       "    }\n",
       "\n",
       "    .dataframe tbody tr th {\n",
       "        vertical-align: top;\n",
       "    }\n",
       "\n",
       "    .dataframe thead th {\n",
       "        text-align: right;\n",
       "    }\n",
       "</style>\n",
       "<table border=\"1\" class=\"dataframe\">\n",
       "  <thead>\n",
       "    <tr style=\"text-align: right;\">\n",
       "      <th></th>\n",
       "      <th>Title</th>\n",
       "      <th>Description</th>\n",
       "      <th>APIEndpoint</th>\n",
       "      <th>APIPortalHomePage</th>\n",
       "      <th>PrimaryCategory</th>\n",
       "      <th>SecondaryCategories</th>\n",
       "      <th>APIProvider</th>\n",
       "      <th>SSLSupport</th>\n",
       "      <th>APIForumMessageBoards</th>\n",
       "      <th>AuthenticationModel</th>\n",
       "      <th>IstheAPIDesign</th>\n",
       "      <th>Scope</th>\n",
       "      <th>DeviceSpecific</th>\n",
       "      <th>DocsHomePageUR</th>\n",
       "      <th>ArchitecturalStyle</th>\n",
       "      <th>SupportedRequestFormats</th>\n",
       "      <th>SupportedResponseFormats</th>\n",
       "      <th>IsThisanUnofficialAPI</th>\n",
       "      <th>RestrictedAccess</th>\n",
       "      <th>SupportEmailAddress</th>\n",
       "    </tr>\n",
       "  </thead>\n",
       "  <tbody>\n",
       "    <tr>\n",
       "      <th>0</th>\n",
       "      <td>Google Maps API</td>\n",
       "      <td>Google Maps' services have been split into mul...</td>\n",
       "      <td>https://www.google.com/maps/embed/v1/</td>\n",
       "      <td>https://developers.google.com/maps/</td>\n",
       "      <td>Mapping</td>\n",
       "      <td>Viewer</td>\n",
       "      <td>Google</td>\n",
       "      <td>No</td>\n",
       "      <td>http://groups-beta.google.com/group/Google-Map...</td>\n",
       "      <td>API Key</td>\n",
       "      <td>No</td>\n",
       "      <td>Single purpose API</td>\n",
       "      <td>No</td>\n",
       "      <td>https://developers.google.com/maps/</td>\n",
       "      <td>REST</td>\n",
       "      <td>KML, URI Query String/CRUD, XML, VML, JavaScript</td>\n",
       "      <td>JSON, KML, XML</td>\n",
       "      <td>No</td>\n",
       "      <td>No</td>\n",
       "      <td>NaN</td>\n",
       "    </tr>\n",
       "    <tr>\n",
       "      <th>1</th>\n",
       "      <td>Twitter API</td>\n",
       "      <td>It has been split into multiple APIs, includin...</td>\n",
       "      <td>http://twitter.com/statuses/</td>\n",
       "      <td>https://dev.twitter.com/rest/public</td>\n",
       "      <td>Social</td>\n",
       "      <td>Blogging</td>\n",
       "      <td>Twitter</td>\n",
       "      <td>No</td>\n",
       "      <td>http://groups.google.com/group/twitter-develop...</td>\n",
       "      <td>OAuth 2</td>\n",
       "      <td>Yes</td>\n",
       "      <td>Single purpose API</td>\n",
       "      <td>No</td>\n",
       "      <td>https://dev.twitter.com/rest/public</td>\n",
       "      <td>REST</td>\n",
       "      <td>URI Query String/CRUD</td>\n",
       "      <td>Atom, JSON, RSS, XML</td>\n",
       "      <td>No</td>\n",
       "      <td>No</td>\n",
       "      <td>api@twitter.com</td>\n",
       "    </tr>\n",
       "    <tr>\n",
       "      <th>2</th>\n",
       "      <td>YouTube API</td>\n",
       "      <td>The Data API allows users to integrate their p...</td>\n",
       "      <td>https://www.youtube.com/iframe_api</td>\n",
       "      <td>https://developers.google.com/youtube/</td>\n",
       "      <td>Video</td>\n",
       "      <td>Media</td>\n",
       "      <td>Google</td>\n",
       "      <td>No</td>\n",
       "      <td>http://groups.google.com/group/youtube-api/</td>\n",
       "      <td>API Key</td>\n",
       "      <td>No</td>\n",
       "      <td>Single purpose API</td>\n",
       "      <td>No</td>\n",
       "      <td>https://developers.google.com/youtube/</td>\n",
       "      <td>REST</td>\n",
       "      <td>Atom, GData, RSS, URI Query String/CRUD, Atom ...</td>\n",
       "      <td>XML, JSON, GData, Atom, RSS</td>\n",
       "      <td>No</td>\n",
       "      <td>No</td>\n",
       "      <td>NaN</td>\n",
       "    </tr>\n",
       "    <tr>\n",
       "      <th>3</th>\n",
       "      <td>Flickr API</td>\n",
       "      <td>The Flickr API can be used to retrieve photos ...</td>\n",
       "      <td>http://api.flickr.com/services/</td>\n",
       "      <td>http://www.flickr.com/services/api/</td>\n",
       "      <td>Photos</td>\n",
       "      <td>Video</td>\n",
       "      <td>Flickr</td>\n",
       "      <td>Yes</td>\n",
       "      <td>http://www.flickr.com/groups/api</td>\n",
       "      <td>OAuth 1</td>\n",
       "      <td>No</td>\n",
       "      <td>Single purpose API</td>\n",
       "      <td>No</td>\n",
       "      <td>http://www.flickr.com/services/api/</td>\n",
       "      <td>REST</td>\n",
       "      <td>URI Query String/CRUD, XML, PHP, XML-RPC</td>\n",
       "      <td>JSON, XML, PHP, XML-RPC</td>\n",
       "      <td>No</td>\n",
       "      <td>No</td>\n",
       "      <td>NaN</td>\n",
       "    </tr>\n",
       "    <tr>\n",
       "      <th>4</th>\n",
       "      <td>Facebook API</td>\n",
       "      <td>Its functions have been split among the follow...</td>\n",
       "      <td>http://api.facebook.com/restserver.php</td>\n",
       "      <td>https://developers.facebook.com/</td>\n",
       "      <td>Social</td>\n",
       "      <td>Webhooks</td>\n",
       "      <td>Facebook</td>\n",
       "      <td>Yes</td>\n",
       "      <td>http://forum.developers.facebook.com/</td>\n",
       "      <td>API Key, OAuth 2</td>\n",
       "      <td>No</td>\n",
       "      <td>Single purpose API</td>\n",
       "      <td>No</td>\n",
       "      <td>https://developers.facebook.com/</td>\n",
       "      <td>REST</td>\n",
       "      <td>URI Query String/CRUD</td>\n",
       "      <td>JSON</td>\n",
       "      <td>No</td>\n",
       "      <td>No</td>\n",
       "      <td>NaN</td>\n",
       "    </tr>\n",
       "    <tr>\n",
       "      <th>...</th>\n",
       "      <td>...</td>\n",
       "      <td>...</td>\n",
       "      <td>...</td>\n",
       "      <td>...</td>\n",
       "      <td>...</td>\n",
       "      <td>...</td>\n",
       "      <td>...</td>\n",
       "      <td>...</td>\n",
       "      <td>...</td>\n",
       "      <td>...</td>\n",
       "      <td>...</td>\n",
       "      <td>...</td>\n",
       "      <td>...</td>\n",
       "      <td>...</td>\n",
       "      <td>...</td>\n",
       "      <td>...</td>\n",
       "      <td>...</td>\n",
       "      <td>...</td>\n",
       "      <td>...</td>\n",
       "      <td>...</td>\n",
       "    </tr>\n",
       "    <tr>\n",
       "      <th>15339</th>\n",
       "      <td>Mollom API</td>\n",
       "      <td>Use the Mollom API to combat spam. Mollom is a...</td>\n",
       "      <td>http://xmlrpc.mollom.com</td>\n",
       "      <td>http://mollom.com/api</td>\n",
       "      <td>Security</td>\n",
       "      <td>Spam, Blogging</td>\n",
       "      <td>NaN</td>\n",
       "      <td>No</td>\n",
       "      <td>http://mollom.com/forum</td>\n",
       "      <td>NaN</td>\n",
       "      <td>No</td>\n",
       "      <td>Single purpose API</td>\n",
       "      <td>No</td>\n",
       "      <td>http://mollom.com/api</td>\n",
       "      <td>REST</td>\n",
       "      <td>XML-RPC</td>\n",
       "      <td>XML</td>\n",
       "      <td>No</td>\n",
       "      <td>No</td>\n",
       "      <td>NaN</td>\n",
       "    </tr>\n",
       "    <tr>\n",
       "      <th>15340</th>\n",
       "      <td>FraudLabs MailBox Validator API</td>\n",
       "      <td>Use the MailBoxValidator Email Validation Web ...</td>\n",
       "      <td>http://v1.fraudlabs.com/mailboxvalidatorwebser...</td>\n",
       "      <td>http://www.fraudlabs.com/mailboxvalidator.aspx</td>\n",
       "      <td>Email</td>\n",
       "      <td>Blogging, Security</td>\n",
       "      <td>Hexasoft</td>\n",
       "      <td>Yes</td>\n",
       "      <td>NaN</td>\n",
       "      <td>API Key</td>\n",
       "      <td>No</td>\n",
       "      <td>Single purpose API</td>\n",
       "      <td>No</td>\n",
       "      <td>http://www.fraudlabs.com/mailboxvalidator.aspx</td>\n",
       "      <td>RPC</td>\n",
       "      <td>SOAP, XML</td>\n",
       "      <td>SOAP, XML</td>\n",
       "      <td>No</td>\n",
       "      <td>No</td>\n",
       "      <td>sales@fraudlabs.com</td>\n",
       "    </tr>\n",
       "    <tr>\n",
       "      <th>15341</th>\n",
       "      <td>Weewar API</td>\n",
       "      <td>The Weewar API allows you to create notifiers,...</td>\n",
       "      <td>http://weewar.com/api1</td>\n",
       "      <td>http://weewar.com/api</td>\n",
       "      <td>Games</td>\n",
       "      <td>NaN</td>\n",
       "      <td>NaN</td>\n",
       "      <td>Yes</td>\n",
       "      <td>http://weewar.com/forum/forums/show/5.page</td>\n",
       "      <td>NaN</td>\n",
       "      <td>No</td>\n",
       "      <td>Single purpose API</td>\n",
       "      <td>No</td>\n",
       "      <td>NaN</td>\n",
       "      <td>REST</td>\n",
       "      <td>None Specified</td>\n",
       "      <td>XML</td>\n",
       "      <td>No</td>\n",
       "      <td>No</td>\n",
       "      <td>NaN</td>\n",
       "    </tr>\n",
       "    <tr>\n",
       "      <th>15342</th>\n",
       "      <td>XigniteGlobalQuotes API</td>\n",
       "      <td>This API offers delayed stock quotes for equit...</td>\n",
       "      <td>http://www.xignite.com/product/global-stock-qu...</td>\n",
       "      <td>http://www.xignite.com/product/global-stock-qu...</td>\n",
       "      <td>Financial</td>\n",
       "      <td>Prices, Stocks</td>\n",
       "      <td>NaN</td>\n",
       "      <td>Yes</td>\n",
       "      <td>http://resources.xignite.com/h/c/190077-xignit...</td>\n",
       "      <td>Token</td>\n",
       "      <td>No</td>\n",
       "      <td>Single purpose API</td>\n",
       "      <td>No</td>\n",
       "      <td>http://www.xignite.com/product/global-stock-qu...</td>\n",
       "      <td>REST</td>\n",
       "      <td>CSV, SOAP, XML, URI Query String/CRUD</td>\n",
       "      <td>XML, SOAP, JSON, CSV</td>\n",
       "      <td>No</td>\n",
       "      <td>No</td>\n",
       "      <td>info@xignite.com</td>\n",
       "    </tr>\n",
       "    <tr>\n",
       "      <th>15343</th>\n",
       "      <td>PDBj API</td>\n",
       "      <td>Use the Protein Data Bank Japan (PDBj) API to ...</td>\n",
       "      <td>http://rest.pdbj.org</td>\n",
       "      <td>http://pdbj.org/#!help?PID=515</td>\n",
       "      <td>Medical</td>\n",
       "      <td>Japanese, Science</td>\n",
       "      <td>NaN</td>\n",
       "      <td>No</td>\n",
       "      <td>NaN</td>\n",
       "      <td>NaN</td>\n",
       "      <td>No</td>\n",
       "      <td>Single purpose API</td>\n",
       "      <td>No</td>\n",
       "      <td>http://pdbj.org/#!help?PID=515</td>\n",
       "      <td>REST</td>\n",
       "      <td>Atom, OpenSearch</td>\n",
       "      <td>Atom, XML</td>\n",
       "      <td>No</td>\n",
       "      <td>No</td>\n",
       "      <td>NaN</td>\n",
       "    </tr>\n",
       "  </tbody>\n",
       "</table>\n",
       "<p>15340 rows × 20 columns</p>\n",
       "</div>"
      ],
      "text/plain": [
       "                                 Title  \\\n",
       "0                      Google Maps API   \n",
       "1                          Twitter API   \n",
       "2                          YouTube API   \n",
       "3                           Flickr API   \n",
       "4                         Facebook API   \n",
       "...                                ...   \n",
       "15339                       Mollom API   \n",
       "15340  FraudLabs MailBox Validator API   \n",
       "15341                       Weewar API   \n",
       "15342          XigniteGlobalQuotes API   \n",
       "15343                         PDBj API   \n",
       "\n",
       "                                             Description  \\\n",
       "0      Google Maps' services have been split into mul...   \n",
       "1      It has been split into multiple APIs, includin...   \n",
       "2      The Data API allows users to integrate their p...   \n",
       "3      The Flickr API can be used to retrieve photos ...   \n",
       "4      Its functions have been split among the follow...   \n",
       "...                                                  ...   \n",
       "15339  Use the Mollom API to combat spam. Mollom is a...   \n",
       "15340  Use the MailBoxValidator Email Validation Web ...   \n",
       "15341  The Weewar API allows you to create notifiers,...   \n",
       "15342  This API offers delayed stock quotes for equit...   \n",
       "15343  Use the Protein Data Bank Japan (PDBj) API to ...   \n",
       "\n",
       "                                             APIEndpoint  \\\n",
       "0                  https://www.google.com/maps/embed/v1/   \n",
       "1                           http://twitter.com/statuses/   \n",
       "2                     https://www.youtube.com/iframe_api   \n",
       "3                        http://api.flickr.com/services/   \n",
       "4                 http://api.facebook.com/restserver.php   \n",
       "...                                                  ...   \n",
       "15339                           http://xmlrpc.mollom.com   \n",
       "15340  http://v1.fraudlabs.com/mailboxvalidatorwebser...   \n",
       "15341                             http://weewar.com/api1   \n",
       "15342  http://www.xignite.com/product/global-stock-qu...   \n",
       "15343                               http://rest.pdbj.org   \n",
       "\n",
       "                                       APIPortalHomePage PrimaryCategory  \\\n",
       "0                    https://developers.google.com/maps/         Mapping   \n",
       "1                    https://dev.twitter.com/rest/public          Social   \n",
       "2                 https://developers.google.com/youtube/           Video   \n",
       "3                    http://www.flickr.com/services/api/          Photos   \n",
       "4                       https://developers.facebook.com/          Social   \n",
       "...                                                  ...             ...   \n",
       "15339                              http://mollom.com/api        Security   \n",
       "15340     http://www.fraudlabs.com/mailboxvalidator.aspx           Email   \n",
       "15341                              http://weewar.com/api           Games   \n",
       "15342  http://www.xignite.com/product/global-stock-qu...       Financial   \n",
       "15343                     http://pdbj.org/#!help?PID=515         Medical   \n",
       "\n",
       "      SecondaryCategories APIProvider SSLSupport  \\\n",
       "0                  Viewer      Google         No   \n",
       "1                Blogging     Twitter         No   \n",
       "2                   Media      Google         No   \n",
       "3                   Video      Flickr        Yes   \n",
       "4                Webhooks    Facebook        Yes   \n",
       "...                   ...         ...        ...   \n",
       "15339      Spam, Blogging         NaN         No   \n",
       "15340  Blogging, Security    Hexasoft        Yes   \n",
       "15341                 NaN         NaN        Yes   \n",
       "15342      Prices, Stocks         NaN        Yes   \n",
       "15343   Japanese, Science         NaN         No   \n",
       "\n",
       "                                   APIForumMessageBoards AuthenticationModel  \\\n",
       "0      http://groups-beta.google.com/group/Google-Map...             API Key   \n",
       "1      http://groups.google.com/group/twitter-develop...             OAuth 2   \n",
       "2            http://groups.google.com/group/youtube-api/             API Key   \n",
       "3                       http://www.flickr.com/groups/api             OAuth 1   \n",
       "4                  http://forum.developers.facebook.com/    API Key, OAuth 2   \n",
       "...                                                  ...                 ...   \n",
       "15339                            http://mollom.com/forum                 NaN   \n",
       "15340                                                NaN             API Key   \n",
       "15341         http://weewar.com/forum/forums/show/5.page                 NaN   \n",
       "15342  http://resources.xignite.com/h/c/190077-xignit...               Token   \n",
       "15343                                                NaN                 NaN   \n",
       "\n",
       "      IstheAPIDesign               Scope DeviceSpecific  \\\n",
       "0                 No  Single purpose API             No   \n",
       "1                Yes  Single purpose API             No   \n",
       "2                 No  Single purpose API             No   \n",
       "3                 No  Single purpose API             No   \n",
       "4                 No  Single purpose API             No   \n",
       "...              ...                 ...            ...   \n",
       "15339             No  Single purpose API             No   \n",
       "15340             No  Single purpose API             No   \n",
       "15341             No  Single purpose API             No   \n",
       "15342             No  Single purpose API             No   \n",
       "15343             No  Single purpose API             No   \n",
       "\n",
       "                                          DocsHomePageUR ArchitecturalStyle  \\\n",
       "0                    https://developers.google.com/maps/               REST   \n",
       "1                    https://dev.twitter.com/rest/public               REST   \n",
       "2                 https://developers.google.com/youtube/               REST   \n",
       "3                    http://www.flickr.com/services/api/               REST   \n",
       "4                       https://developers.facebook.com/               REST   \n",
       "...                                                  ...                ...   \n",
       "15339                              http://mollom.com/api               REST   \n",
       "15340     http://www.fraudlabs.com/mailboxvalidator.aspx                RPC   \n",
       "15341                                                NaN               REST   \n",
       "15342  http://www.xignite.com/product/global-stock-qu...               REST   \n",
       "15343                     http://pdbj.org/#!help?PID=515               REST   \n",
       "\n",
       "                                 SupportedRequestFormats  \\\n",
       "0       KML, URI Query String/CRUD, XML, VML, JavaScript   \n",
       "1                                  URI Query String/CRUD   \n",
       "2      Atom, GData, RSS, URI Query String/CRUD, Atom ...   \n",
       "3               URI Query String/CRUD, XML, PHP, XML-RPC   \n",
       "4                                  URI Query String/CRUD   \n",
       "...                                                  ...   \n",
       "15339                                            XML-RPC   \n",
       "15340                                          SOAP, XML   \n",
       "15341                                     None Specified   \n",
       "15342              CSV, SOAP, XML, URI Query String/CRUD   \n",
       "15343                                   Atom, OpenSearch   \n",
       "\n",
       "          SupportedResponseFormats IsThisanUnofficialAPI RestrictedAccess  \\\n",
       "0                   JSON, KML, XML                    No               No   \n",
       "1             Atom, JSON, RSS, XML                    No               No   \n",
       "2      XML, JSON, GData, Atom, RSS                    No               No   \n",
       "3          JSON, XML, PHP, XML-RPC                    No               No   \n",
       "4                             JSON                    No               No   \n",
       "...                            ...                   ...              ...   \n",
       "15339                          XML                    No               No   \n",
       "15340                    SOAP, XML                    No               No   \n",
       "15341                          XML                    No               No   \n",
       "15342         XML, SOAP, JSON, CSV                    No               No   \n",
       "15343                    Atom, XML                    No               No   \n",
       "\n",
       "       SupportEmailAddress  \n",
       "0                      NaN  \n",
       "1          api@twitter.com  \n",
       "2                      NaN  \n",
       "3                      NaN  \n",
       "4                      NaN  \n",
       "...                    ...  \n",
       "15339                  NaN  \n",
       "15340  sales@fraudlabs.com  \n",
       "15341                  NaN  \n",
       "15342     info@xignite.com  \n",
       "15343                  NaN  \n",
       "\n",
       "[15340 rows x 20 columns]"
      ]
     },
     "execution_count": 260,
     "metadata": {},
     "output_type": "execute_result"
    }
   ],
   "source": [
    "data"
   ]
  },
  {
   "cell_type": "code",
   "execution_count": 261,
   "metadata": {},
   "outputs": [],
   "source": [
    "finaldata = pd.DataFrame(data,columns=['Title','Description','PrimaryCategory'])"
   ]
  },
  {
   "cell_type": "code",
   "execution_count": 262,
   "metadata": {},
   "outputs": [],
   "source": [
    "finaldata.columns = ['Service Name','Service Description','Service Classification']"
   ]
  },
  {
   "cell_type": "code",
   "execution_count": 263,
   "metadata": {},
   "outputs": [
    {
     "data": {
      "text/plain": [
       "(15340, 3)"
      ]
     },
     "execution_count": 263,
     "metadata": {},
     "output_type": "execute_result"
    }
   ],
   "source": [
    "finaldata.shape"
   ]
  },
  {
   "cell_type": "code",
   "execution_count": 264,
   "metadata": {},
   "outputs": [
    {
     "data": {
      "text/html": [
       "<div>\n",
       "<style scoped>\n",
       "    .dataframe tbody tr th:only-of-type {\n",
       "        vertical-align: middle;\n",
       "    }\n",
       "\n",
       "    .dataframe tbody tr th {\n",
       "        vertical-align: top;\n",
       "    }\n",
       "\n",
       "    .dataframe thead th {\n",
       "        text-align: right;\n",
       "    }\n",
       "</style>\n",
       "<table border=\"1\" class=\"dataframe\">\n",
       "  <thead>\n",
       "    <tr style=\"text-align: right;\">\n",
       "      <th></th>\n",
       "      <th>Service Name</th>\n",
       "      <th>Service Description</th>\n",
       "      <th>Service Classification</th>\n",
       "    </tr>\n",
       "  </thead>\n",
       "  <tbody>\n",
       "    <tr>\n",
       "      <th>0</th>\n",
       "      <td>Google Maps API</td>\n",
       "      <td>Google Maps' services have been split into mul...</td>\n",
       "      <td>Mapping</td>\n",
       "    </tr>\n",
       "    <tr>\n",
       "      <th>1</th>\n",
       "      <td>Twitter API</td>\n",
       "      <td>It has been split into multiple APIs, includin...</td>\n",
       "      <td>Social</td>\n",
       "    </tr>\n",
       "    <tr>\n",
       "      <th>2</th>\n",
       "      <td>YouTube API</td>\n",
       "      <td>The Data API allows users to integrate their p...</td>\n",
       "      <td>Video</td>\n",
       "    </tr>\n",
       "    <tr>\n",
       "      <th>3</th>\n",
       "      <td>Flickr API</td>\n",
       "      <td>The Flickr API can be used to retrieve photos ...</td>\n",
       "      <td>Photos</td>\n",
       "    </tr>\n",
       "    <tr>\n",
       "      <th>4</th>\n",
       "      <td>Facebook API</td>\n",
       "      <td>Its functions have been split among the follow...</td>\n",
       "      <td>Social</td>\n",
       "    </tr>\n",
       "    <tr>\n",
       "      <th>5</th>\n",
       "      <td>Amazon Product Advertising API</td>\n",
       "      <td>What was formerly the ECSeCommerce Servicehas ...</td>\n",
       "      <td>eCommerce</td>\n",
       "    </tr>\n",
       "  </tbody>\n",
       "</table>\n",
       "</div>"
      ],
      "text/plain": [
       "                     Service Name  \\\n",
       "0                 Google Maps API   \n",
       "1                     Twitter API   \n",
       "2                     YouTube API   \n",
       "3                      Flickr API   \n",
       "4                    Facebook API   \n",
       "5  Amazon Product Advertising API   \n",
       "\n",
       "                                 Service Description Service Classification  \n",
       "0  Google Maps' services have been split into mul...                Mapping  \n",
       "1  It has been split into multiple APIs, includin...                 Social  \n",
       "2  The Data API allows users to integrate their p...                  Video  \n",
       "3  The Flickr API can be used to retrieve photos ...                 Photos  \n",
       "4  Its functions have been split among the follow...                 Social  \n",
       "5  What was formerly the ECSeCommerce Servicehas ...              eCommerce  "
      ]
     },
     "execution_count": 264,
     "metadata": {},
     "output_type": "execute_result"
    }
   ],
   "source": [
    "finaldata.head(6)"
   ]
  },
  {
   "cell_type": "code",
   "execution_count": 265,
   "metadata": {},
   "outputs": [
    {
     "data": {
      "text/plain": [
       "Service Name               0\n",
       "Service Description        0\n",
       "Service Classification    35\n",
       "dtype: int64"
      ]
     },
     "execution_count": 265,
     "metadata": {},
     "output_type": "execute_result"
    }
   ],
   "source": [
    "finaldata.isnull().sum()"
   ]
  },
  {
   "cell_type": "code",
   "execution_count": 266,
   "metadata": {},
   "outputs": [],
   "source": [
    "datas = finaldata.isnull()"
   ]
  },
  {
   "cell_type": "code",
   "execution_count": 267,
   "metadata": {},
   "outputs": [
    {
     "data": {
      "text/html": [
       "<div>\n",
       "<style scoped>\n",
       "    .dataframe tbody tr th:only-of-type {\n",
       "        vertical-align: middle;\n",
       "    }\n",
       "\n",
       "    .dataframe tbody tr th {\n",
       "        vertical-align: top;\n",
       "    }\n",
       "\n",
       "    .dataframe thead th {\n",
       "        text-align: right;\n",
       "    }\n",
       "</style>\n",
       "<table border=\"1\" class=\"dataframe\">\n",
       "  <thead>\n",
       "    <tr style=\"text-align: right;\">\n",
       "      <th></th>\n",
       "      <th>Service Name</th>\n",
       "      <th>Service Description</th>\n",
       "      <th>Service Classification</th>\n",
       "    </tr>\n",
       "  </thead>\n",
       "  <tbody>\n",
       "    <tr>\n",
       "      <th>0</th>\n",
       "      <td>False</td>\n",
       "      <td>False</td>\n",
       "      <td>False</td>\n",
       "    </tr>\n",
       "    <tr>\n",
       "      <th>1</th>\n",
       "      <td>False</td>\n",
       "      <td>False</td>\n",
       "      <td>False</td>\n",
       "    </tr>\n",
       "    <tr>\n",
       "      <th>2</th>\n",
       "      <td>False</td>\n",
       "      <td>False</td>\n",
       "      <td>False</td>\n",
       "    </tr>\n",
       "    <tr>\n",
       "      <th>3</th>\n",
       "      <td>False</td>\n",
       "      <td>False</td>\n",
       "      <td>False</td>\n",
       "    </tr>\n",
       "    <tr>\n",
       "      <th>4</th>\n",
       "      <td>False</td>\n",
       "      <td>False</td>\n",
       "      <td>False</td>\n",
       "    </tr>\n",
       "    <tr>\n",
       "      <th>...</th>\n",
       "      <td>...</td>\n",
       "      <td>...</td>\n",
       "      <td>...</td>\n",
       "    </tr>\n",
       "    <tr>\n",
       "      <th>15339</th>\n",
       "      <td>False</td>\n",
       "      <td>False</td>\n",
       "      <td>False</td>\n",
       "    </tr>\n",
       "    <tr>\n",
       "      <th>15340</th>\n",
       "      <td>False</td>\n",
       "      <td>False</td>\n",
       "      <td>False</td>\n",
       "    </tr>\n",
       "    <tr>\n",
       "      <th>15341</th>\n",
       "      <td>False</td>\n",
       "      <td>False</td>\n",
       "      <td>False</td>\n",
       "    </tr>\n",
       "    <tr>\n",
       "      <th>15342</th>\n",
       "      <td>False</td>\n",
       "      <td>False</td>\n",
       "      <td>False</td>\n",
       "    </tr>\n",
       "    <tr>\n",
       "      <th>15343</th>\n",
       "      <td>False</td>\n",
       "      <td>False</td>\n",
       "      <td>False</td>\n",
       "    </tr>\n",
       "  </tbody>\n",
       "</table>\n",
       "<p>15340 rows × 3 columns</p>\n",
       "</div>"
      ],
      "text/plain": [
       "       Service Name  Service Description  Service Classification\n",
       "0             False                False                   False\n",
       "1             False                False                   False\n",
       "2             False                False                   False\n",
       "3             False                False                   False\n",
       "4             False                False                   False\n",
       "...             ...                  ...                     ...\n",
       "15339         False                False                   False\n",
       "15340         False                False                   False\n",
       "15341         False                False                   False\n",
       "15342         False                False                   False\n",
       "15343         False                False                   False\n",
       "\n",
       "[15340 rows x 3 columns]"
      ]
     },
     "execution_count": 267,
     "metadata": {},
     "output_type": "execute_result"
    }
   ],
   "source": [
    "datas"
   ]
  },
  {
   "cell_type": "code",
   "execution_count": 268,
   "metadata": {},
   "outputs": [
    {
     "data": {
      "text/plain": [
       "(15340, 3)"
      ]
     },
     "execution_count": 268,
     "metadata": {},
     "output_type": "execute_result"
    }
   ],
   "source": [
    "finaldata.shape"
   ]
  },
  {
   "cell_type": "code",
   "execution_count": 269,
   "metadata": {},
   "outputs": [],
   "source": [
    "servicedata = finaldata.dropna()"
   ]
  },
  {
   "cell_type": "code",
   "execution_count": 270,
   "metadata": {},
   "outputs": [
    {
     "data": {
      "text/plain": [
       "(15305, 3)"
      ]
     },
     "execution_count": 270,
     "metadata": {},
     "output_type": "execute_result"
    }
   ],
   "source": [
    "servicedata.shape"
   ]
  },
  {
   "cell_type": "code",
   "execution_count": 271,
   "metadata": {},
   "outputs": [
    {
     "data": {
      "text/html": [
       "<div>\n",
       "<style scoped>\n",
       "    .dataframe tbody tr th:only-of-type {\n",
       "        vertical-align: middle;\n",
       "    }\n",
       "\n",
       "    .dataframe tbody tr th {\n",
       "        vertical-align: top;\n",
       "    }\n",
       "\n",
       "    .dataframe thead th {\n",
       "        text-align: right;\n",
       "    }\n",
       "</style>\n",
       "<table border=\"1\" class=\"dataframe\">\n",
       "  <thead>\n",
       "    <tr style=\"text-align: right;\">\n",
       "      <th></th>\n",
       "      <th>Service Name</th>\n",
       "      <th>Service Description</th>\n",
       "      <th>Service Classification</th>\n",
       "    </tr>\n",
       "  </thead>\n",
       "  <tbody>\n",
       "    <tr>\n",
       "      <th>0</th>\n",
       "      <td>Google Maps API</td>\n",
       "      <td>Google Maps' services have been split into mul...</td>\n",
       "      <td>Mapping</td>\n",
       "    </tr>\n",
       "    <tr>\n",
       "      <th>1</th>\n",
       "      <td>Twitter API</td>\n",
       "      <td>It has been split into multiple APIs, includin...</td>\n",
       "      <td>Social</td>\n",
       "    </tr>\n",
       "    <tr>\n",
       "      <th>2</th>\n",
       "      <td>YouTube API</td>\n",
       "      <td>The Data API allows users to integrate their p...</td>\n",
       "      <td>Video</td>\n",
       "    </tr>\n",
       "    <tr>\n",
       "      <th>3</th>\n",
       "      <td>Flickr API</td>\n",
       "      <td>The Flickr API can be used to retrieve photos ...</td>\n",
       "      <td>Photos</td>\n",
       "    </tr>\n",
       "    <tr>\n",
       "      <th>4</th>\n",
       "      <td>Facebook API</td>\n",
       "      <td>Its functions have been split among the follow...</td>\n",
       "      <td>Social</td>\n",
       "    </tr>\n",
       "    <tr>\n",
       "      <th>5</th>\n",
       "      <td>Amazon Product Advertising API</td>\n",
       "      <td>What was formerly the ECSeCommerce Servicehas ...</td>\n",
       "      <td>eCommerce</td>\n",
       "    </tr>\n",
       "    <tr>\n",
       "      <th>6</th>\n",
       "      <td>Twilio API</td>\n",
       "      <td>Twilio provides a simple hosted API and markup...</td>\n",
       "      <td>Telephony</td>\n",
       "    </tr>\n",
       "    <tr>\n",
       "      <th>7</th>\n",
       "      <td>Last.fm API</td>\n",
       "      <td>The Last.fm API gives users the ability to bui...</td>\n",
       "      <td>Music</td>\n",
       "    </tr>\n",
       "    <tr>\n",
       "      <th>8</th>\n",
       "      <td>eBay API</td>\n",
       "      <td>eBay's primary web services are found in the t...</td>\n",
       "      <td>Search</td>\n",
       "    </tr>\n",
       "    <tr>\n",
       "      <th>9</th>\n",
       "      <td>Twilio SMS API</td>\n",
       "      <td>Twilio provides a simple hosted API and markup...</td>\n",
       "      <td>Messaging</td>\n",
       "    </tr>\n",
       "  </tbody>\n",
       "</table>\n",
       "</div>"
      ],
      "text/plain": [
       "                     Service Name  \\\n",
       "0                 Google Maps API   \n",
       "1                     Twitter API   \n",
       "2                     YouTube API   \n",
       "3                      Flickr API   \n",
       "4                    Facebook API   \n",
       "5  Amazon Product Advertising API   \n",
       "6                      Twilio API   \n",
       "7                     Last.fm API   \n",
       "8                        eBay API   \n",
       "9                  Twilio SMS API   \n",
       "\n",
       "                                 Service Description Service Classification  \n",
       "0  Google Maps' services have been split into mul...                Mapping  \n",
       "1  It has been split into multiple APIs, includin...                 Social  \n",
       "2  The Data API allows users to integrate their p...                  Video  \n",
       "3  The Flickr API can be used to retrieve photos ...                 Photos  \n",
       "4  Its functions have been split among the follow...                 Social  \n",
       "5  What was formerly the ECSeCommerce Servicehas ...              eCommerce  \n",
       "6  Twilio provides a simple hosted API and markup...              Telephony  \n",
       "7  The Last.fm API gives users the ability to bui...                  Music  \n",
       "8  eBay's primary web services are found in the t...                 Search  \n",
       "9  Twilio provides a simple hosted API and markup...              Messaging  "
      ]
     },
     "execution_count": 271,
     "metadata": {},
     "output_type": "execute_result"
    }
   ],
   "source": [
    "servicedata.head(10)"
   ]
  },
  {
   "cell_type": "code",
   "execution_count": 272,
   "metadata": {},
   "outputs": [
    {
     "name": "stderr",
     "output_type": "stream",
     "text": [
      "C:\\Users\\KIIT01\\AppData\\Local\\Temp\\ipykernel_17200\\17923325.py:1: SettingWithCopyWarning: \n",
      "A value is trying to be set on a copy of a slice from a DataFrame\n",
      "\n",
      "See the caveats in the documentation: https://pandas.pydata.org/pandas-docs/stable/user_guide/indexing.html#returning-a-view-versus-a-copy\n",
      "  servicedata.rename(columns={'Service Classification': 'Primary Category'}, inplace= True)\n"
     ]
    }
   ],
   "source": [
    "servicedata.rename(columns={'Service Classification': 'Primary Category'}, inplace= True)"
   ]
  },
  {
   "cell_type": "code",
   "execution_count": 273,
   "metadata": {},
   "outputs": [
    {
     "data": {
      "text/html": [
       "<div>\n",
       "<style scoped>\n",
       "    .dataframe tbody tr th:only-of-type {\n",
       "        vertical-align: middle;\n",
       "    }\n",
       "\n",
       "    .dataframe tbody tr th {\n",
       "        vertical-align: top;\n",
       "    }\n",
       "\n",
       "    .dataframe thead th {\n",
       "        text-align: right;\n",
       "    }\n",
       "</style>\n",
       "<table border=\"1\" class=\"dataframe\">\n",
       "  <thead>\n",
       "    <tr style=\"text-align: right;\">\n",
       "      <th></th>\n",
       "      <th>Service Name</th>\n",
       "      <th>Service Description</th>\n",
       "      <th>Primary Category</th>\n",
       "    </tr>\n",
       "  </thead>\n",
       "  <tbody>\n",
       "    <tr>\n",
       "      <th>0</th>\n",
       "      <td>Google Maps API</td>\n",
       "      <td>Google Maps' services have been split into mul...</td>\n",
       "      <td>Mapping</td>\n",
       "    </tr>\n",
       "    <tr>\n",
       "      <th>1</th>\n",
       "      <td>Twitter API</td>\n",
       "      <td>It has been split into multiple APIs, includin...</td>\n",
       "      <td>Social</td>\n",
       "    </tr>\n",
       "    <tr>\n",
       "      <th>2</th>\n",
       "      <td>YouTube API</td>\n",
       "      <td>The Data API allows users to integrate their p...</td>\n",
       "      <td>Video</td>\n",
       "    </tr>\n",
       "    <tr>\n",
       "      <th>3</th>\n",
       "      <td>Flickr API</td>\n",
       "      <td>The Flickr API can be used to retrieve photos ...</td>\n",
       "      <td>Photos</td>\n",
       "    </tr>\n",
       "    <tr>\n",
       "      <th>4</th>\n",
       "      <td>Facebook API</td>\n",
       "      <td>Its functions have been split among the follow...</td>\n",
       "      <td>Social</td>\n",
       "    </tr>\n",
       "  </tbody>\n",
       "</table>\n",
       "</div>"
      ],
      "text/plain": [
       "      Service Name                                Service Description  \\\n",
       "0  Google Maps API  Google Maps' services have been split into mul...   \n",
       "1      Twitter API  It has been split into multiple APIs, includin...   \n",
       "2      YouTube API  The Data API allows users to integrate their p...   \n",
       "3       Flickr API  The Flickr API can be used to retrieve photos ...   \n",
       "4     Facebook API  Its functions have been split among the follow...   \n",
       "\n",
       "  Primary Category  \n",
       "0          Mapping  \n",
       "1           Social  \n",
       "2            Video  \n",
       "3           Photos  \n",
       "4           Social  "
      ]
     },
     "execution_count": 273,
     "metadata": {},
     "output_type": "execute_result"
    }
   ],
   "source": [
    "servicedata.head(5)"
   ]
  },
  {
   "cell_type": "code",
   "execution_count": 274,
   "metadata": {},
   "outputs": [],
   "source": [
    "servicedata.to_csv('datas.csv',encoding='utf-8',index=False)"
   ]
  },
  {
   "cell_type": "code",
   "execution_count": 275,
   "metadata": {},
   "outputs": [],
   "source": [
    "counts = servicedata['Primary Category'].value_counts()"
   ]
  },
  {
   "cell_type": "code",
   "execution_count": 276,
   "metadata": {},
   "outputs": [
    {
     "data": {
      "text/plain": [
       "Tools            767\n",
       "Financial        687\n",
       "Messaging        511\n",
       "eCommerce        466\n",
       "Payments         460\n",
       "                ... \n",
       "Contracts          1\n",
       "Discounts          1\n",
       "Gestures           1\n",
       "Accessibility      1\n",
       "Polls              1\n",
       "Name: Primary Category, Length: 401, dtype: int64"
      ]
     },
     "execution_count": 276,
     "metadata": {},
     "output_type": "execute_result"
    }
   ],
   "source": [
    "counts"
   ]
  },
  {
   "cell_type": "code",
   "execution_count": 277,
   "metadata": {},
   "outputs": [],
   "source": [
    "category_reduced = ['Photos','Payments','eCommerce','Bitcoin','Sports','Medical','Cloud','Database']"
   ]
  },
  {
   "cell_type": "code",
   "execution_count": 278,
   "metadata": {},
   "outputs": [],
   "source": [
    "reduced_data = servicedata[servicedata['Primary Category'].isin(category_reduced)]"
   ]
  },
  {
   "cell_type": "code",
   "execution_count": 279,
   "metadata": {},
   "outputs": [
    {
     "data": {
      "text/plain": [
       "(1901, 3)"
      ]
     },
     "execution_count": 279,
     "metadata": {},
     "output_type": "execute_result"
    }
   ],
   "source": [
    "reduced_data.shape"
   ]
  },
  {
   "cell_type": "code",
   "execution_count": 280,
   "metadata": {},
   "outputs": [],
   "source": [
    "reduced_data_counts = reduced_data['Primary Category'].value_counts()"
   ]
  },
  {
   "cell_type": "code",
   "execution_count": 281,
   "metadata": {},
   "outputs": [
    {
     "data": {
      "text/plain": [
       "eCommerce    466\n",
       "Payments     460\n",
       "Sports       228\n",
       "Photos       185\n",
       "Cloud        173\n",
       "Bitcoin      143\n",
       "Database     136\n",
       "Medical      110\n",
       "Name: Primary Category, dtype: int64"
      ]
     },
     "execution_count": 281,
     "metadata": {},
     "output_type": "execute_result"
    }
   ],
   "source": [
    "reduced_data_counts"
   ]
  },
  {
   "cell_type": "code",
   "execution_count": 282,
   "metadata": {},
   "outputs": [
    {
     "data": {
      "text/html": [
       "<div>\n",
       "<style scoped>\n",
       "    .dataframe tbody tr th:only-of-type {\n",
       "        vertical-align: middle;\n",
       "    }\n",
       "\n",
       "    .dataframe tbody tr th {\n",
       "        vertical-align: top;\n",
       "    }\n",
       "\n",
       "    .dataframe thead th {\n",
       "        text-align: right;\n",
       "    }\n",
       "</style>\n",
       "<table border=\"1\" class=\"dataframe\">\n",
       "  <thead>\n",
       "    <tr style=\"text-align: right;\">\n",
       "      <th></th>\n",
       "      <th>Service Name</th>\n",
       "      <th>Service Description</th>\n",
       "      <th>Primary Category</th>\n",
       "    </tr>\n",
       "  </thead>\n",
       "  <tbody>\n",
       "    <tr>\n",
       "      <th>3</th>\n",
       "      <td>Flickr API</td>\n",
       "      <td>The Flickr API can be used to retrieve photos ...</td>\n",
       "      <td>Photos</td>\n",
       "    </tr>\n",
       "    <tr>\n",
       "      <th>5</th>\n",
       "      <td>Amazon Product Advertising API</td>\n",
       "      <td>What was formerly the ECSeCommerce Servicehas ...</td>\n",
       "      <td>eCommerce</td>\n",
       "    </tr>\n",
       "    <tr>\n",
       "      <th>21</th>\n",
       "      <td>Amazon EC2 API</td>\n",
       "      <td>The Amazon Elastic Compute Cloud (Amazon EC2) ...</td>\n",
       "      <td>Cloud</td>\n",
       "    </tr>\n",
       "    <tr>\n",
       "      <th>24</th>\n",
       "      <td>Instagram Graph API</td>\n",
       "      <td>Instagram is a photo sharing iPhone app and se...</td>\n",
       "      <td>Photos</td>\n",
       "    </tr>\n",
       "    <tr>\n",
       "      <th>38</th>\n",
       "      <td>Commission Junction API</td>\n",
       "      <td>The Commission Detail Service is a REST-based ...</td>\n",
       "      <td>eCommerce</td>\n",
       "    </tr>\n",
       "  </tbody>\n",
       "</table>\n",
       "</div>"
      ],
      "text/plain": [
       "                      Service Name  \\\n",
       "3                       Flickr API   \n",
       "5   Amazon Product Advertising API   \n",
       "21                  Amazon EC2 API   \n",
       "24             Instagram Graph API   \n",
       "38         Commission Junction API   \n",
       "\n",
       "                                  Service Description Primary Category  \n",
       "3   The Flickr API can be used to retrieve photos ...           Photos  \n",
       "5   What was formerly the ECSeCommerce Servicehas ...        eCommerce  \n",
       "21  The Amazon Elastic Compute Cloud (Amazon EC2) ...            Cloud  \n",
       "24  Instagram is a photo sharing iPhone app and se...           Photos  \n",
       "38  The Commission Detail Service is a REST-based ...        eCommerce  "
      ]
     },
     "execution_count": 282,
     "metadata": {},
     "output_type": "execute_result"
    }
   ],
   "source": [
    "reduced_data.head()"
   ]
  },
  {
   "cell_type": "code",
   "execution_count": 283,
   "metadata": {},
   "outputs": [],
   "source": [
    "#reduced_data.to_csv('reduced.csv',encoding='utf-8',index=False,header=True)"
   ]
  },
  {
   "cell_type": "code",
   "execution_count": 285,
   "metadata": {},
   "outputs": [
    {
     "data": {
      "text/html": [
       "<div>\n",
       "<style scoped>\n",
       "    .dataframe tbody tr th:only-of-type {\n",
       "        vertical-align: middle;\n",
       "    }\n",
       "\n",
       "    .dataframe tbody tr th {\n",
       "        vertical-align: top;\n",
       "    }\n",
       "\n",
       "    .dataframe thead th {\n",
       "        text-align: right;\n",
       "    }\n",
       "</style>\n",
       "<table border=\"1\" class=\"dataframe\">\n",
       "  <thead>\n",
       "    <tr style=\"text-align: right;\">\n",
       "      <th></th>\n",
       "      <th>Service Name</th>\n",
       "      <th>Service Description</th>\n",
       "      <th>Primary Category</th>\n",
       "    </tr>\n",
       "  </thead>\n",
       "  <tbody>\n",
       "    <tr>\n",
       "      <th>14874</th>\n",
       "      <td>Talis API</td>\n",
       "      <td>The Talis Platform is open to any software dev...</td>\n",
       "      <td>Database</td>\n",
       "    </tr>\n",
       "  </tbody>\n",
       "</table>\n",
       "</div>"
      ],
      "text/plain": [
       "      Service Name                                Service Description  \\\n",
       "14874    Talis API  The Talis Platform is open to any software dev...   \n",
       "\n",
       "      Primary Category  \n",
       "14874         Database  "
      ]
     },
     "execution_count": 285,
     "metadata": {},
     "output_type": "execute_result"
    }
   ],
   "source": [
    "reduced_data[reduced_data['Service Description'] == max(reduced_data['Service Description'],key=len)]"
   ]
  },
  {
   "cell_type": "code",
   "execution_count": 287,
   "metadata": {},
   "outputs": [
    {
     "data": {
      "text/plain": [
       "'The Talis Platform is open to any software developer and easily programmed using a Web API. Data is held in a reliable and safe environment and the API enables development of a vast range of information rich applications. The Platform works like a shared database capable of storing and searching both content and RDF metadata. Because the Platform infrastructure is shared every customer can immediately benefit from any improvements we make in performance or capacity. We continually improve the Platform and release new versions every month without disrupting or degrading service to applications relying on it. This means application developers can forget about downloading and upgrading and concentrate user experience and value. Data held in the platform is organised into stores which can be individually secured if need be. Any kind of content can be added to a store along with arbitrary RDF metadata. The content and metadata becomes immediately accessible over the Web and discoverable using both SPARQL and a free text search system with built in ranking of results according to relevance to the search terms. RDF provides a powerful and flexible data model which encourages linking and sharing of data and dramatically reduces the complexity of data integration. Because each store provides a uniform Web API regardless of the type of data it holds the Talis Platform gives unparalleled opportunities for reuse and remixing of data. The uniform Web API allows applications to easily search multiple stores of data, and the use of RDF enables the application to interpret and use the results with very little effort. This means that developers using the Talis Platform benefit immediately from an ecosystem of data and services that enable rapid development of applications with a strategy to continually evolve and improve them as they incorporate new types and sources of data.'"
      ]
     },
     "execution_count": 287,
     "metadata": {},
     "output_type": "execute_result"
    }
   ],
   "source": [
    "max(reduced_data['Service Description'], key=len)"
   ]
  },
  {
   "cell_type": "code",
   "execution_count": 289,
   "metadata": {},
   "outputs": [
    {
     "data": {
      "text/plain": [
       "301"
      ]
     },
     "execution_count": 289,
     "metadata": {},
     "output_type": "execute_result"
    }
   ],
   "source": [
    "len(max(reduced_data['Service Description'], key=len).split())"
   ]
  },
  {
   "cell_type": "code",
   "execution_count": 290,
   "metadata": {},
   "outputs": [
    {
     "data": {
      "text/html": [
       "<div>\n",
       "<style scoped>\n",
       "    .dataframe tbody tr th:only-of-type {\n",
       "        vertical-align: middle;\n",
       "    }\n",
       "\n",
       "    .dataframe tbody tr th {\n",
       "        vertical-align: top;\n",
       "    }\n",
       "\n",
       "    .dataframe thead th {\n",
       "        text-align: right;\n",
       "    }\n",
       "</style>\n",
       "<table border=\"1\" class=\"dataframe\">\n",
       "  <thead>\n",
       "    <tr style=\"text-align: right;\">\n",
       "      <th></th>\n",
       "      <th>Service Name</th>\n",
       "      <th>Service Description</th>\n",
       "      <th>Primary Category</th>\n",
       "    </tr>\n",
       "  </thead>\n",
       "  <tbody>\n",
       "    <tr>\n",
       "      <th>632</th>\n",
       "      <td>Web API for Biology API</td>\n",
       "      <td>Web API for Bioinformatics (WABI).</td>\n",
       "      <td>Medical</td>\n",
       "    </tr>\n",
       "  </tbody>\n",
       "</table>\n",
       "</div>"
      ],
      "text/plain": [
       "                Service Name                 Service Description  \\\n",
       "632  Web API for Biology API  Web API for Bioinformatics (WABI).   \n",
       "\n",
       "    Primary Category  \n",
       "632          Medical  "
      ]
     },
     "execution_count": 290,
     "metadata": {},
     "output_type": "execute_result"
    }
   ],
   "source": [
    "reduced_data[reduced_data['Service Description'] == min(reduced_data['Service Description'], key=len)]\n"
   ]
  },
  {
   "cell_type": "code",
   "execution_count": 291,
   "metadata": {},
   "outputs": [
    {
     "data": {
      "text/plain": [
       "'Web API for Bioinformatics (WABI).'"
      ]
     },
     "execution_count": 291,
     "metadata": {},
     "output_type": "execute_result"
    }
   ],
   "source": [
    "min(reduced_data['Service Description'], key=len)"
   ]
  },
  {
   "cell_type": "code",
   "execution_count": 292,
   "metadata": {},
   "outputs": [
    {
     "data": {
      "text/plain": [
       "5"
      ]
     },
     "execution_count": 292,
     "metadata": {},
     "output_type": "execute_result"
    }
   ],
   "source": [
    "len(min(reduced_data['Service Description'], key=len).split())"
   ]
  },
  {
   "cell_type": "code",
   "execution_count": 293,
   "metadata": {},
   "outputs": [],
   "source": [
    "f = lambda x : len(x.split())\n",
    "lens = reduced_data['Service Description'].apply(f)"
   ]
  },
  {
   "cell_type": "code",
   "execution_count": 294,
   "metadata": {},
   "outputs": [
    {
     "data": {
      "text/plain": [
       "66.88111520252498"
      ]
     },
     "execution_count": 294,
     "metadata": {},
     "output_type": "execute_result"
    }
   ],
   "source": [
    "mu = np.mean(lens)\n",
    "mu"
   ]
  },
  {
   "cell_type": "code",
   "execution_count": 295,
   "metadata": {},
   "outputs": [
    {
     "data": {
      "text/plain": [
       "25.597387878346368"
      ]
     },
     "execution_count": 295,
     "metadata": {},
     "output_type": "execute_result"
    }
   ],
   "source": [
    "sigma = np.std(lens)\n",
    "sigma"
   ]
  },
  {
   "cell_type": "code",
   "execution_count": 296,
   "metadata": {},
   "outputs": [
    {
     "data": {
      "text/plain": [
       "(24.77715891034329, 108.98507149470666)"
      ]
     },
     "execution_count": 296,
     "metadata": {},
     "output_type": "execute_result"
    }
   ],
   "source": [
    "interval = stats.norm.interval(0.9, mu, sigma) \n",
    "interval"
   ]
  },
  {
   "cell_type": "code",
   "execution_count": 297,
   "metadata": {},
   "outputs": [],
   "source": [
    "final_data = reduced_data[(lens >= interval[0]) & (lens <= interval[1])]"
   ]
  },
  {
   "cell_type": "code",
   "execution_count": 298,
   "metadata": {},
   "outputs": [
    {
     "data": {
      "text/plain": [
       "(1766, 3)"
      ]
     },
     "execution_count": 298,
     "metadata": {},
     "output_type": "execute_result"
    }
   ],
   "source": [
    "final_data.shape"
   ]
  },
  {
   "cell_type": "code",
   "execution_count": 299,
   "metadata": {},
   "outputs": [],
   "source": [
    "final_data.to_csv('preprocessed.csv',encoding='utf-8',index=False,header=True)"
   ]
  }
 ],
 "metadata": {
  "kernelspec": {
   "display_name": "Python 3",
   "language": "python",
   "name": "python3"
  },
  "language_info": {
   "codemirror_mode": {
    "name": "ipython",
    "version": 3
   },
   "file_extension": ".py",
   "mimetype": "text/x-python",
   "name": "python",
   "nbconvert_exporter": "python",
   "pygments_lexer": "ipython3",
   "version": "3.10.4"
  },
  "orig_nbformat": 4
 },
 "nbformat": 4,
 "nbformat_minor": 2
}
